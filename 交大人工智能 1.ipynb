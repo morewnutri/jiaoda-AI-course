{
 "cells": [
  {
   "cell_type": "markdown",
   "metadata": {},
   "source": [
    "# 第一节课"
   ]
  },
  {
   "cell_type": "code",
   "execution_count": 1,
   "metadata": {},
   "outputs": [
    {
     "name": "stdout",
     "output_type": "stream",
     "text": [
      "pls enter quantity of apple:12\n",
      "quantity of apple: 12\n"
     ]
    }
   ],
   "source": [
    "a = input(\"pls enter quantity of apple:\")#从input输出的是字符\n",
    "print(\"quantity of apple: %d\"%int(a))#需要将从input得到的字符转换成整形"
   ]
  },
  {
   "cell_type": "markdown",
   "metadata": {},
   "source": [
    "### 练习1"
   ]
  },
  {
   "cell_type": "code",
   "execution_count": 6,
   "metadata": {},
   "outputs": [
    {
     "name": "stdout",
     "output_type": "stream",
     "text": [
      "输入姓名：da\n",
      "phone num :12\n",
      "name:da phone num:12\n",
      "name and phone number:da 12\n",
      "name:da phone:12\n"
     ]
    }
   ],
   "source": [
    "#输出自己的姓名和手机号\n",
    "a= input(\"输入姓名：\")\n",
    "b= input(\"phone num :\")\n",
    "print(\"name:%s phone num:%d\"%(a,int(b)))    #手机号另一行\n",
    "\n",
    "name,phone = input(\"name and phone number:\").split()\n",
    "print(\"name:%s phone:%d\"%(name,int(phone)))#括号里的是元组"
   ]
  },
  {
   "cell_type": "code",
   "execution_count": 4,
   "metadata": {},
   "outputs": [
    {
     "name": "stdout",
     "output_type": "stream",
     "text": [
      "num:23\n"
     ]
    },
    {
     "data": {
      "text/plain": [
       "24"
      ]
     },
     "execution_count": 4,
     "metadata": {},
     "output_type": "execute_result"
    }
   ],
   "source": [
    "#n+1\n",
    "c=input(\"num:\")\n",
    "int(c)+1"
   ]
  },
  {
   "cell_type": "markdown",
   "metadata": {},
   "source": [
    "# 第二节课 注释，变量"
   ]
  },
  {
   "cell_type": "markdown",
   "metadata": {},
   "source": [
    "批量注释方法\n",
    "1. ‘’‘\n",
    "2. control+/（取消注释control+shift+/）\n",
    "\n",
    "单引号，双引号，三引号-> \n",
    "a = 'damkdma'\n",
    "b = \"dak'dak\"\n",
    "c = '''dak\"dam'''\n",
    "d = 'dad\\'da' #加上斜杠就会被认为是字符"
   ]
  },
  {
   "cell_type": "code",
   "execution_count": 30,
   "metadata": {},
   "outputs": [
    {
     "data": {
      "text/plain": [
       "(4330812656, 4330812656, 140495684740464, 140495684983920, True, False)"
      ]
     },
     "execution_count": 30,
     "metadata": {},
     "output_type": "execute_result"
    }
   ],
   "source": [
    "#is 和 == 的区别？非常重要，面试会问到\n",
    "a,b,c,d,e,f = 4,4, \"c\",\"d\",260,260\n",
    "\n",
    "id(a),id(b),id(c),id(d),a is b,e is f#is 判断变量地址是否相同，地址相同的话值肯定相同，值相同地址不一定相同。250以下的变量地址相同，250以上的地址不同"
   ]
  },
  {
   "cell_type": "markdown",
   "metadata": {},
   "source": [
    "# 第三节课 字符串"
   ]
  },
  {
   "cell_type": "markdown",
   "metadata": {},
   "source": [
    "### 寻找字符 find index"
   ]
  },
  {
   "cell_type": "code",
   "execution_count": 16,
   "metadata": {},
   "outputs": [
    {
     "name": "stdout",
     "output_type": "stream",
     "text": [
      "2\n",
      "-1\n"
     ]
    }
   ],
   "source": [
    "#find,\n",
    "#返回找到的第一个字符的索引，没有的话返回-1\n",
    "a = \"hello world\"\n",
    "print(a.find(\"l\"))\n",
    "print(a.find(\"lda\"))\n",
    "\n",
    "#index，\n",
    "#返回找到的第一个字符的索引，没有的话报错\n",
    "print(a.index(\"l\"))\n",
    "print(a.index(\"lda\"))"
   ]
  },
  {
   "cell_type": "markdown",
   "metadata": {},
   "source": [
    "### 统计字符出现字数 count"
   ]
  },
  {
   "cell_type": "code",
   "execution_count": 17,
   "metadata": {},
   "outputs": [
    {
     "name": "stdout",
     "output_type": "stream",
     "text": [
      "1\n"
     ]
    }
   ],
   "source": [
    "print(a.count(\"l\",6,10))#指定范围，在world中l出现的字数"
   ]
  },
  {
   "cell_type": "markdown",
   "metadata": {},
   "source": [
    "### 替换 replace"
   ]
  },
  {
   "cell_type": "code",
   "execution_count": 20,
   "metadata": {},
   "outputs": [
    {
     "name": "stdout",
     "output_type": "stream",
     "text": [
      "helloworld\n",
      "he77o world\n"
     ]
    }
   ],
   "source": [
    "print(a.replace(\" \",\"\"))\n",
    "print(a.replace(\"l\",\"7\",2))#替换两个"
   ]
  },
  {
   "cell_type": "markdown",
   "metadata": {},
   "source": [
    "### 切分 split"
   ]
  },
  {
   "cell_type": "code",
   "execution_count": 22,
   "metadata": {},
   "outputs": [
    {
     "name": "stdout",
     "output_type": "stream",
     "text": [
      "['hello wo', 'ld']\n",
      "['he', '', 'o wor', 'd']\n",
      "['he', '', 'o world']\n"
     ]
    }
   ],
   "source": [
    "print(a.split(\"r\"))#返回列表\n",
    "print(a.split(\"l\"))\n",
    "print(a.split(\"l\",2))"
   ]
  },
  {
   "cell_type": "code",
   "execution_count": 24,
   "metadata": {},
   "outputs": [
    {
     "name": "stdout",
     "output_type": "stream",
     "text": [
      "Hello world\n",
      "Hello World\n",
      "HELLO WORLD\n"
     ]
    }
   ],
   "source": [
    "print(a.capitalize())\n",
    "print(a.title())\n",
    "print(a.upper())"
   ]
  },
  {
   "cell_type": "code",
   "execution_count": 26,
   "metadata": {},
   "outputs": [
    {
     "name": "stdout",
     "output_type": "stream",
     "text": [
      "True\n",
      "False\n"
     ]
    }
   ],
   "source": [
    "print(a.startswith(\"h\"))\n",
    "print(a.endswith(\"h\"))"
   ]
  },
  {
   "cell_type": "markdown",
   "metadata": {},
   "source": [
    "### lstrip,rstrip,strip,rjust,ljust,join\n",
    "### eval -> 执行表达式\n",
    "### isspace ->判断有没有空格\n",
    "### isalpha\n",
    "### isdigit\n",
    "### isalnum"
   ]
  },
  {
   "cell_type": "code",
   "execution_count": 40,
   "metadata": {},
   "outputs": [
    {
     "data": {
      "text/plain": [
       "('world', 'world', 'world')"
      ]
     },
     "execution_count": 40,
     "metadata": {},
     "output_type": "execute_result"
    }
   ],
   "source": [
    "a,b,c = '   world    ','  world','world   '\n",
    "a.strip(),b.lstrip(),c.rstrip()"
   ]
  },
  {
   "cell_type": "code",
   "execution_count": 47,
   "metadata": {},
   "outputs": [
    {
     "name": "stdout",
     "output_type": "stream",
     "text": [
      "19\n",
      "hello*coca\n",
      "w*o*r*l*d\n"
     ]
    }
   ],
   "source": [
    "str1,list1,str2 = 'world',['hello','coca'],'*'\n",
    "str3 = '123445'\n",
    "print(eval('+'.join(str3)))\n",
    "print(str2.join(list1))\n",
    "print(str2.join(str1))"
   ]
  },
  {
   "cell_type": "markdown",
   "metadata": {},
   "source": [
    "### 字符串练习\n",
    "1.统计字符串长度，某一个字母和某一个数字出现次数\n",
    "2.从键盘输入字符串，将小写都改成大写\n",
    "3.替换字符串中的某个单词"
   ]
  },
  {
   "cell_type": "code",
   "execution_count": 78,
   "metadata": {},
   "outputs": [
    {
     "name": "stdout",
     "output_type": "stream",
     "text": [
      "str:dwa\n",
      "upper of str:DWA\n",
      "d 出现字数：1\n"
     ]
    }
   ],
   "source": [
    "#统计字符串长度，某一个字母和某一个数字出现次数\n",
    "str1 = 'dwajdnajkb2u28 '\n",
    "len(str1),\n",
    "#从键盘输入字符串，将小写都改成大写\n",
    "a = input(\"str:\")\n",
    "print(\"upper of str:%s\"%a.upper())\n",
    "#某个字符出现字数\n",
    "print('d 出现字数：%d'%a.count('d'))"
   ]
  },
  {
   "cell_type": "code",
   "execution_count": 55,
   "metadata": {},
   "outputs": [
    {
     "name": "stdout",
     "output_type": "stream",
     "text": [
      "str:dafaf\n",
      "the str you want to replace:a\n",
      "the str you want to replace with:j\n",
      "djfjf\n"
     ]
    }
   ],
   "source": [
    "#替换字符串中的某个单词\n",
    "a = input(\"str:\")\n",
    "b = input(\"the str you want to replace:\")\n",
    "c = input(\"the str you want to replace with:\")\n",
    "print(a.replace(b,c))"
   ]
  },
  {
   "cell_type": "markdown",
   "metadata": {},
   "source": [
    "# 第四节课 运算符"
   ]
  },
  {
   "cell_type": "code",
   "execution_count": 35,
   "metadata": {},
   "outputs": [
    {
     "data": {
      "text/plain": [
       "(20, 10, 10, -1, 10, 0)"
      ]
     },
     "execution_count": 35,
     "metadata": {},
     "output_type": "execute_result"
    }
   ],
   "source": [
    "a,b,c,d,e = 10,20,30,-1,0\n",
    "a and b,a or b,a or d,d or a,d and a,e and a\n",
    "#and -> a为true，返回b的值； a为false,则不计算b，直接返回false\n",
    "#or -> a为true，则不计算b，直接返回true；a为false，则返回b"
   ]
  },
  {
   "cell_type": "markdown",
   "metadata": {},
   "source": [
    "# 第五节课 列表"
   ]
  },
  {
   "cell_type": "markdown",
   "metadata": {},
   "source": [
    "### 拼接，切片\n",
    "append,+/extend, .count(), .index(obj), .insert(), .pop(), .reverse(), .remove(), .sort()\n",
    "len(), .max(), .min(), .clean(), .copy()\n",
    "\n",
    "1.列表可以被修改，意味着一旦列表被创建，即使修改列表地址也不会变。而字符串等不能被修改的地址则会变"
   ]
  },
  {
   "cell_type": "code",
   "execution_count": 63,
   "metadata": {},
   "outputs": [
    {
     "name": "stdout",
     "output_type": "stream",
     "text": [
      "None\n",
      "0\n",
      "['dka', 'jfbj', 'da', 1997, 'dam', 'dfsf', 2233]\n",
      "None\n",
      "[2233, 'dfsf', 'dam', 1997, 'da', 'jfbj', 'dka']\n"
     ]
    }
   ],
   "source": [
    "list1 = ['dka','jfbj','da',1997]\n",
    "list2 = ['dfsf',2233]\n",
    "str1 = 'dam'\n",
    "\n",
    "print(list1.append(str1))\n",
    "\n",
    "print(list1.count('d'))\n",
    "\n",
    "print(list1+list2)\n",
    "\n",
    "list1.extend(list2)\n",
    "print(list1)\n",
    "\n",
    "list1.reverse()\n",
    "print(list1)\n"
   ]
  },
  {
   "cell_type": "markdown",
   "metadata": {},
   "source": [
    "### 练习题\n",
    "\n",
    "1. 定义一个列表，要求该列表中至少包括整数，浮点数，字符串。编写程序，将列表中除了字符串的元素全都删除。\n",
    "2. 生成一个由100以内能被5整除的数组构成的列表，然后从大到小排序。"
   ]
  },
  {
   "cell_type": "code",
   "execution_count": 212,
   "metadata": {},
   "outputs": [
    {
     "data": {
      "text/plain": [
       "['world', 'sex']"
      ]
     },
     "execution_count": 212,
     "metadata": {},
     "output_type": "execute_result"
    }
   ],
   "source": [
    "# 1. \n",
    "list1 = ['world',2,3,'sex']\n",
    "list3 = ['worl',2,4,'sexy']\n",
    "list4 = ['wor',2,3,'h']\n",
    "# for i in range(len(list1)):\n",
    "#     if type(list1[i])!=str:\n",
    "#         list1.pop(i)\n",
    "        \n",
    "# list1\n",
    "\n",
    "#list index out of range，因为执行了一次pop（）之后列表里只剩下2个了，而这时候还是按之前的列表长度算的，所以out of range\n",
    "#解题时太过线性思维，一直想着用pop（）这种删除的方法，需要想到也可以用赋值的方法\n",
    "\n",
    "list2[:] = [x for x in list1 if type(x) == str]\n",
    "list2\n",
    "\n",
    "# list5[:] = [x for x in list3 type(x) == str]\n",
    "# list5\n"
   ]
  },
  {
   "cell_type": "code",
   "execution_count": 156,
   "metadata": {},
   "outputs": [
    {
     "data": {
      "text/plain": [
       "['s', 'e', 'x']"
      ]
     },
     "execution_count": 156,
     "metadata": {},
     "output_type": "execute_result"
    }
   ],
   "source": [
    "# 1.\n",
    "list1 = ['world',2,3,'sex']\n",
    "list2 = []\n",
    "for i in list1:\n",
    "    #print(list1[i],i)\n",
    "    if type(i)==str:\n",
    "            list2[:] = i \n",
    "\n",
    "list2          \n",
    "        "
   ]
  },
  {
   "cell_type": "code",
   "execution_count": 204,
   "metadata": {},
   "outputs": [
    {
     "data": {
      "text/plain": [
       "[5, 10, 15, 20, 25, 30, 35, 40, 45, 50, 55, 60, 65, 70, 75, 80, 85, 90, 95]"
      ]
     },
     "execution_count": 204,
     "metadata": {},
     "output_type": "execute_result"
    }
   ],
   "source": [
    "# 2.\n",
    "list3 = []\n",
    "list3[:] = [i for i in range(100) if i%5 == 0 ]\n",
    "list3.sort(reverse = True)\n",
    "list3\n",
    "\n",
    "list4 = [x for x in range(5,100,5)]\n",
    "list4"
   ]
  },
  {
   "cell_type": "code",
   "execution_count": 165,
   "metadata": {},
   "outputs": [],
   "source": []
  },
  {
   "cell_type": "code",
   "execution_count": 196,
   "metadata": {},
   "outputs": [
    {
     "ename": "SyntaxError",
     "evalue": "invalid syntax (<ipython-input-196-ec89de676e00>, line 3)",
     "output_type": "error",
     "traceback": [
      "\u001b[0;36m  File \u001b[0;32m\"<ipython-input-196-ec89de676e00>\"\u001b[0;36m, line \u001b[0;32m3\u001b[0m\n\u001b[0;31m    list5[:] = [x for x in list3 if type(x) == str else list3.remove(x)]\u001b[0m\n\u001b[0m                                                      ^\u001b[0m\n\u001b[0;31mSyntaxError\u001b[0m\u001b[0;31m:\u001b[0m invalid syntax\n"
     ]
    }
   ],
   "source": [
    "#1.\n",
    "list5 = []\n",
    "list3 = ['world',2,4,'sexy']\n",
    "list5[:] = [x for x in list3 if type(x) == str else list3.remove(x)]\n",
    "list5"
   ]
  },
  {
   "cell_type": "code",
   "execution_count": 203,
   "metadata": {},
   "outputs": [
    {
     "ename": "SyntaxError",
     "evalue": "invalid syntax (<ipython-input-203-7bbb041b5cb1>, line 1)",
     "output_type": "error",
     "traceback": [
      "\u001b[0;36m  File \u001b[0;32m\"<ipython-input-203-7bbb041b5cb1>\"\u001b[0;36m, line \u001b[0;32m1\u001b[0m\n\u001b[0;31m    list5[:] = [list3.pop(x) for x in range(len(list3)-1) if type(x) != str else(x)]\u001b[0m\n\u001b[0m                                                                               ^\u001b[0m\n\u001b[0;31mSyntaxError\u001b[0m\u001b[0;31m:\u001b[0m invalid syntax\n"
     ]
    }
   ],
   "source": []
  },
  {
   "cell_type": "markdown",
   "metadata": {},
   "source": [
    "# 第六节课 元组，字典，集合"
   ]
  },
  {
   "cell_type": "markdown",
   "metadata": {},
   "source": [
    "#### 字典\n",
    "\n",
    "1.元组比列表占的空间小，效率较快\n",
    "2.字典的键必须是不可变的，比如数字，字符串，元组可以成为键，但是列表，字典是不可以的\n",
    "3.setdefalut()和get()的区别是，get（）不会改变字典，但是setdefault把默认值加到字典中\n",
    "\n",
    ".fromkeys(), .get(), in , .keys(), .values(), .items(), .setdefault(), .pop(key()), .popitem()\n"
   ]
  },
  {
   "cell_type": "code",
   "execution_count": 64,
   "metadata": {},
   "outputs": [
    {
     "data": {
      "text/plain": [
       "(tuple, int)"
      ]
     },
     "execution_count": 64,
     "metadata": {},
     "output_type": "execute_result"
    }
   ],
   "source": [
    "#只有一个元素时需要加逗号才能创建元组\n",
    "t1 = (1,)\n",
    "t2 = (1)\n",
    "type(t1),type(t2)"
   ]
  },
  {
   "cell_type": "code",
   "execution_count": 75,
   "metadata": {},
   "outputs": [
    {
     "data": {
      "text/plain": [
       "True"
      ]
     },
     "execution_count": 75,
     "metadata": {},
     "output_type": "execute_result"
    }
   ],
   "source": [
    "dic1 = {'dak':12,2:'daff',(12,3):'daffg'}\n",
    "seq = ('name','sex')\n",
    "\n",
    "dic2 = dic1.fromkeys(seq,'jack')\n",
    "\n",
    "dic2.get('sex','male'),dic2.get('age',18)#若是没有相应的键，则返回默认值\n",
    "\n",
    "'sex' in dic2\n",
    "\n",
    "dic2.keys()\n",
    "\n",
    "#判断某个值是否在字典中\n",
    "12 in dic1.values()"
   ]
  },
  {
   "cell_type": "markdown",
   "metadata": {},
   "source": [
    "### 集合"
   ]
  },
  {
   "cell_type": "code",
   "execution_count": null,
   "metadata": {},
   "outputs": [],
   "source": [
    "### discard（），remove(),in ,len(),add(),update(),\n",
    "只有不变的元素才能在集合里，比如元组，而列表不能在集合里，因为列表是可变的"
   ]
  },
  {
   "cell_type": "code",
   "execution_count": 205,
   "metadata": {},
   "outputs": [],
   "source": [
    "set1 = set()"
   ]
  },
  {
   "cell_type": "markdown",
   "metadata": {},
   "source": [
    "# 第七节课 条件控制与循环语句"
   ]
  },
  {
   "cell_type": "code",
   "execution_count": null,
   "metadata": {},
   "outputs": [],
   "source": [
    "if else\n",
    "if elif else\n",
    "while else\n",
    "break -- 退出整个循环\n",
    "continue -- 退出本次循环\n",
    "pass -- 不产生任何操作\n",
    "for\n",
    "list(range())\n",
    "enumerate() --用for循环将一个列表添加到另一个字典中。enumerate将可遍历的对象组合为一个索引序列，同时列出数据和数据下标"
   ]
  },
  {
   "cell_type": "markdown",
   "metadata": {},
   "source": [
    "# 第八节课 推导式和函数"
   ]
  },
  {
   "cell_type": "markdown",
   "metadata": {},
   "source": [
    "##### 推导式练习\n",
    "1. 找出列表中长度大于4的字符;长度大于4的转换成大写\n",
    "2. 快速创建一个1-10的偶数列表"
   ]
  },
  {
   "cell_type": "code",
   "execution_count": 218,
   "metadata": {},
   "outputs": [
    {
     "data": {
      "text/plain": [
       "(['badgood', 'excellent', 'hanliton'], ['BADGOOD', 'EXCELLENT', 'HANLITON'])"
      ]
     },
     "execution_count": 218,
     "metadata": {},
     "output_type": "execute_result"
    }
   ],
   "source": [
    "# 1.\n",
    "names = ['john','badgood','excellent','hanliton']\n",
    "name1 = [x for x in names if len(x)>4]\n",
    "upname = [x.upper() for x in names if len(x)>4]\n",
    "name1,upname"
   ]
  },
  {
   "cell_type": "code",
   "execution_count": 217,
   "metadata": {},
   "outputs": [
    {
     "data": {
      "text/plain": [
       "[0, 2, 4, 6, 8, 10]"
      ]
     },
     "execution_count": 217,
     "metadata": {},
     "output_type": "execute_result"
    }
   ],
   "source": [
    "# 2.\n",
    "odd = [x for x in range(11) if x%2==0]\n",
    "odd"
   ]
  },
  {
   "cell_type": "markdown",
   "metadata": {},
   "source": [
    "##### 不定长参数\n",
    "对函数传入比当初声明的更多的参数 -> 不定长参数\n",
    ".* -> 元组\n",
    ".** -> 字典"
   ]
  },
  {
   "cell_type": "code",
   "execution_count": 221,
   "metadata": {},
   "outputs": [
    {
     "name": "stdout",
     "output_type": "stream",
     "text": [
      "1\n",
      "(2, 3, 'a', 'b')\n",
      "{'name': 'wu', 'age': 4}\n"
     ]
    }
   ],
   "source": [
    "def test(a,*yuanzu,**liebiao):\n",
    "    print(a)\n",
    "    print(yuanzu)\n",
    "    print(liebiao)\n",
    "test(1,2,3,'a','b',name='wu',age=4)\n"
   ]
  },
  {
   "cell_type": "markdown",
   "metadata": {},
   "source": [
    "##### 可变对象与不可变对象的传递\n",
    "\n",
    "不可变类型：strings，tuples，numbers\n",
    "\n",
    "a=5之后a=10，这里实际上是新生成一个int值对象10，再让a指向他。\n",
    "\n",
    "不可变对象：list，dict\n",
    "list1=[1.3，4，5，‘s’]，之后list1[2]=6，这里只是将第三个元素更改，5会被丢弃，本身list不动。\n",
    "\n",
    "区别：\n",
    "不可变对象传递的是对象的值，不是对象本身，如果修改值，修改的是另一个复制的对象，不会影响原来对象的本身。\n",
    "可变对象传递对象自己。\n",
    "\n"
   ]
  },
  {
   "cell_type": "code",
   "execution_count": 229,
   "metadata": {},
   "outputs": [
    {
     "name": "stdout",
     "output_type": "stream",
     "text": [
      "外参数: 5\n",
      "内参数: 10\n"
     ]
    }
   ],
   "source": [
    "def un_changeble(b):\n",
    "    b=10\n",
    "    print('内参数:',b)\n",
    "b = 5\n",
    "print('外参数:',b)\n",
    "un_changeble(b)\n"
   ]
  },
  {
   "cell_type": "code",
   "execution_count": 236,
   "metadata": {},
   "outputs": [
    {
     "name": "stdout",
     "output_type": "stream",
     "text": [
      "函数外： [2, 3, 'world']\n",
      "函数内1: [2, 3, 'world', [1.3, 4, 'ada']]\n",
      "函数内2: [1.3, 4, 'ada']\n"
     ]
    }
   ],
   "source": [
    "def changeble1(mylist):\n",
    "    mylist.append([1.3,4,'ada'])\n",
    "    print('函数内1:',mylist)\n",
    "def changeble2(mylist):\n",
    "    mylist=[1.3,4,'ada']\n",
    "    print('函数内2:',mylist)\n",
    "mylist = [2,3,'world']\n",
    "print(\"函数外：\",mylist)\n",
    "changeble1(mylist)\n",
    "changeble2(mylist)"
   ]
  },
  {
   "cell_type": "markdown",
   "metadata": {},
   "source": [
    "##### 迭代器\n",
    "迭代器是一个可以记住遍历的位置的对象，迭代器对象从集合的第一个元素开始访问，直到所有的元素被访问为止。\n",
    "迭代器只能往前，不能后退。\n",
    "\n",
    "两个基本方法： iter（），next（）\n"
   ]
  },
  {
   "cell_type": "code",
   "execution_count": 238,
   "metadata": {},
   "outputs": [
    {
     "data": {
      "text/plain": [
       "(1, 2)"
      ]
     },
     "execution_count": 238,
     "metadata": {},
     "output_type": "execute_result"
    }
   ],
   "source": [
    "list1 = [1,2,3,4,56,7]\n",
    "iter1 = iter(list1) #创建迭代器对象\n",
    "next(iter1),next(iter1)#输出迭代器的下一个对象\n"
   ]
  },
  {
   "cell_type": "markdown",
   "metadata": {},
   "source": [
    "##### 生成器 yield\n",
    "\n",
    "生成器是个返回迭代器的函数，只能用于迭代操作，可以理解为生成器就是个迭代器。\n",
    "\n",
    "yield可以返回多次值，return只能返回一次值\n",
    "\n",
    "在调用生成器的过程中，每次遇到yield函数会停止运行并保存所有运行信息，返回yield的值，下一次从这个位置开始运行。"
   ]
  },
  {
   "cell_type": "code",
   "execution_count": 241,
   "metadata": {},
   "outputs": [
    {
     "name": "stdout",
     "output_type": "stream",
     "text": [
      "start\n",
      "1\n",
      "None\n",
      "middel\n",
      "2\n"
     ]
    }
   ],
   "source": [
    "def f():\n",
    "    print('start')\n",
    "    a = yield 1 #1只是迭代值，调用next时返回的值\n",
    "    print (a) #返回none\n",
    "    print('middel')\n",
    "    b = yield 2\n",
    "    print (b)\n",
    "    print('end')\n",
    "a = f()\n",
    "print (next(a)) #打印出来的1是yield返回的值\n",
    "print (next(a))"
   ]
  },
  {
   "cell_type": "markdown",
   "metadata": {},
   "source": [
    "##### 函数作用域\n",
    "\n",
    "* 全局变量是定义在函数外的变量。\n",
    "* 局部变量是定义在函数内的变量，当内部作用域想要修改外部作用域的变量时候，就可以用到global关键字了。\n",
    "* 对于不可变类型的全局变量来说，要在函数中修改需要用global。对于可变类型不需要。"
   ]
  },
  {
   "cell_type": "code",
   "execution_count": 242,
   "metadata": {},
   "outputs": [
    {
     "ename": "SyntaxError",
     "evalue": "name 'b' is parameter and global (<ipython-input-242-1c8a017384a1>, line 5)",
     "output_type": "error",
     "traceback": [
      "\u001b[0;36m  File \u001b[0;32m\"<ipython-input-242-1c8a017384a1>\"\u001b[0;36m, line \u001b[0;32m5\u001b[0m\n\u001b[0;31m    b = 5\u001b[0m\n\u001b[0m         \n^\u001b[0m\n\u001b[0;31mSyntaxError\u001b[0m\u001b[0;31m:\u001b[0m name 'b' is parameter and global\n"
     ]
    }
   ],
   "source": [
    "def un_changeble(b):\n",
    "    global b\n",
    "    b=10\n",
    "    print('内参数:',b)\n",
    "b = 5\n",
    "print('外参数:',b)\n",
    "un_changeble(b)"
   ]
  },
  {
   "cell_type": "code",
   "execution_count": 244,
   "metadata": {},
   "outputs": [
    {
     "name": "stdout",
     "output_type": "stream",
     "text": [
      "内参数: 10\n",
      "外参数: 10\n"
     ]
    }
   ],
   "source": [
    "def un_changeble():\n",
    "    global b\n",
    "    b=10\n",
    "    print('内参数:',b)\n",
    "b = 5\n",
    "un_changeble()\n",
    "print('外参数:',b)\n"
   ]
  },
  {
   "cell_type": "code",
   "execution_count": 245,
   "metadata": {},
   "outputs": [
    {
     "name": "stdout",
     "output_type": "stream",
     "text": [
      "外参数: 5\n",
      "内参数: 10\n"
     ]
    }
   ],
   "source": [
    "def un_changeble():\n",
    "    global b\n",
    "    b=10\n",
    "    print('内参数:',b)\n",
    "b = 5\n",
    "\n",
    "print('外参数:',b)\n",
    "un_changeble()\n"
   ]
  },
  {
   "cell_type": "markdown",
   "metadata": {},
   "source": [
    "##### 匿名函数 lambda\n",
    "没有给定名称的函数叫匿名函数，使用lambda创建匿名函数。\n",
    "\n",
    "匿名函数创建规则：\n",
    "\n",
    "* lambda只是一个表达式，不是代码块，不能写太多的逻辑进去。\n",
    "* lambda函数拥有自己的命名空间，不能访问自有参数列表以外的参数，全局变量也不行。\n",
    "\n",
    "表达式规则：\n",
    "\n",
    "lambda 参数列表：表达式\n"
   ]
  },
  {
   "cell_type": "code",
   "execution_count": 249,
   "metadata": {},
   "outputs": [
    {
     "name": "stdout",
     "output_type": "stream",
     "text": [
      "6\n",
      "7\n"
     ]
    }
   ],
   "source": [
    "cal = lambda x,y=5:x*y if x>y else x+y\n",
    "print(cal(2,4))\n",
    "print(cal(2))"
   ]
  },
  {
   "cell_type": "code",
   "execution_count": null,
   "metadata": {},
   "outputs": [],
   "source": []
  },
  {
   "cell_type": "code",
   "execution_count": null,
   "metadata": {},
   "outputs": [],
   "source": []
  },
  {
   "cell_type": "code",
   "execution_count": null,
   "metadata": {},
   "outputs": [],
   "source": []
  },
  {
   "cell_type": "code",
   "execution_count": null,
   "metadata": {},
   "outputs": [],
   "source": []
  },
  {
   "cell_type": "code",
   "execution_count": null,
   "metadata": {},
   "outputs": [],
   "source": []
  }
 ],
 "metadata": {
  "kernelspec": {
   "display_name": "Python 3",
   "language": "python",
   "name": "python3"
  },
  "language_info": {
   "codemirror_mode": {
    "name": "ipython",
    "version": 3
   },
   "file_extension": ".py",
   "mimetype": "text/x-python",
   "name": "python",
   "nbconvert_exporter": "python",
   "pygments_lexer": "ipython3",
   "version": "3.7.4"
  }
 },
 "nbformat": 4,
 "nbformat_minor": 2
}
